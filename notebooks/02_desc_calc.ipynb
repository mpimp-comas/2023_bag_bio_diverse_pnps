{
 "cells": [
  {
   "cell_type": "markdown",
   "metadata": {},
   "source": [
    "# Caclulate a Set of Descriptors and Create Plots\n",
    "     \n",
    "* Create per-class and overview plots"
   ]
  },
  {
   "cell_type": "code",
   "execution_count": null,
   "metadata": {},
   "outputs": [],
   "source": [
    "%reload_ext autoreload\n",
    "%autoreload 2\n",
    "def warn(*args, **kwargs):\n",
    "    pass  # to silence scikit-learn warnings\n",
    "\n",
    "import warnings\n",
    "warnings.filterwarnings('ignore')\n",
    "warnings.warn = warn\n",
    "\n",
    "# Type hints\n",
    "from typing import Iterable, List, Set, Dict, Union, Optional\n",
    "\n",
    "import os, gc\n",
    "import time\n",
    "\n",
    "import pandas as pd\n",
    "import numpy as np\n",
    "import scipy.stats as st\n",
    "from sklearn.decomposition import PCA\n",
    "from sklearn.preprocessing import minmax_scale\n",
    "from sklearn.preprocessing import StandardScaler\n",
    "from sklearn.neighbors import KernelDensity\n",
    "\n",
    "from rdkit import DataStructs\n",
    "from rdkit.Chem import AllChem as Chem, QED\n",
    "from rdkit.Chem import Descriptors as Desc\n",
    "from rdkit.Chem import rdMolDescriptors as rdMolDesc\n",
    "from rdkit.Chem import Fragments\n",
    "\n",
    "from Contrib.NP_Score import npscorer\n",
    "\n",
    "import matplotlib.pyplot as plt\n",
    "import seaborn as sns\n",
    "from tqdm.notebook import tqdm\n",
    "tqdm.pandas()\n",
    "\n",
    "from IPython.core.interactiveshell import InteractiveShell\n",
    "InteractiveShell.ast_node_interactivity = \"all\"\n",
    "\n",
    "# Project-local Imports\n",
    "from jupy_tools import plt_style, pca\n",
    "from jupy_tools import utils as u, mol_view as mv\n",
    "from jupy_tools.utils import info\n",
    "time_start = time.time()\n",
    "u.timestamp()\n"
   ]
  },
  {
   "cell_type": "markdown",
   "metadata": {},
   "source": [
    "## Functions"
   ]
  },
  {
   "cell_type": "code",
   "execution_count": null,
   "metadata": {},
   "outputs": [],
   "source": [
    "pca_xlim = (-5, 6)  # (-6, 8)\n",
    "pca_ylim = (-5, 5)  # (-6, 5)\n",
    "\n",
    "def pca_plot_overview(df, comp: List[int]):\n",
    "    plt.figure(figsize=(15, 14));\n",
    "    fig, ax = plt.subplots();\n",
    "    leg_dict = {}\n",
    "    leg_list = [\"Enamine\", \"DrugBank\", \"ChEMBL NP\", config[\"name\"]]\n",
    "    plot_order = [\"DrugBank\", \"ChEMBL NP\", \"Enamine\"]\n",
    "    for ds in plot_order:\n",
    "        # tmp1 = df.query(f\"\"\"DataSet == '{ds}'\"\"\").sample(n=2500).copy().reset_index(drop=True)\n",
    "        tmp1 = df.query(f\"\"\"DataSet == '{ds}'\"\"\").copy().reset_index(drop=True)\n",
    "        x = tmp1[f\"Comp_{comp[0]}\"]\n",
    "        y = tmp1[f\"Comp_{comp[1]}\"]\n",
    "\n",
    "        quant_low = tmp1.quantile(0.05)\n",
    "        xmin = round(2 * quant_low[f\"Comp_{comp[0]}\"], 0) / 2 - 3.0\n",
    "        ymin = round(2 * quant_low[f\"Comp_{comp[1]}\"], 0) / 2 - 3.0\n",
    "        quant_high = tmp1.quantile(0.95)\n",
    "        xmax = round(2 * quant_high[f\"Comp_{comp[0]}\"], 0) / 2 + 3.0\n",
    "        ymax = round(2 * quant_high[f\"Comp_{comp[1]}\"], 0) / 2 + 3.0\n",
    "\n",
    "        # Peform the kernel density estimate\n",
    "        xx, yy = np.mgrid[xmin:xmax:200j, ymin:ymax:200j]\n",
    "        positions = np.vstack([xx.ravel(), yy.ravel()]).T\n",
    "        values = np.vstack([x, y]).T\n",
    "        kde = KernelDensity(\n",
    "            algorithm=\"kd_tree\",\n",
    "            kernel='gaussian', bandwidth=.4,\n",
    "        ).fit(values)\n",
    "        f = np.reshape(\n",
    "            np.exp(kde.score_samples(positions)), \n",
    "            xx.shape\n",
    "        )\n",
    "\n",
    "        # Contour plot\n",
    "        cntr = ax.contour(xx, yy, f, colors=cmap[ds], levels=10, label=ds, linestyles=\"-\", linewidths=2.0);\n",
    "        leg_elem,_ = cntr.legend_elements()\n",
    "        leg_dict[ds] = leg_elem[7]\n",
    "        # scatter = ax.plot(x, y, 'o', markersize=4, alpha=0.7, color=cmap[ds])\n",
    "\n",
    "    # Overview plot for the internal DataSet\n",
    "    tmp2 = df.query(f\"\"\"DataSet == '{config[\"name\"]}'\"\"\")\n",
    "    x = tmp2[f\"Comp_{comp[0]}\"]\n",
    "    y = tmp2[f\"Comp_{comp[1]}\"]\n",
    "    scatter = ax.plot(x, y, 'o', markersize=7, color=cmap[config[\"name\"]])\n",
    "    leg_dict[config[\"name\"]] = scatter[0]\n",
    "\n",
    "    plt.xlim(pca_xlim);\n",
    "    plt.ylim(pca_ylim);\n",
    "    plt.xlabel(f\"PC{comp[0]}\");\n",
    "    plt.ylabel(f\"PC{comp[1]}\");\n",
    "    leg_elements = [leg_dict[x] for x in leg_list]\n",
    "    plt.legend(leg_elements, leg_list);\n",
    "    plt.title(f\"PCA Comp{comp[0]} and Comp{comp[1]}\");\n",
    "    plt.savefig(f\"{config['dataset']}/output/pca_{comp[0]}_{comp[1]}.png\");\n",
    "    plt.savefig(f\"{config['dataset']}/output/pca_{comp[0]}_{comp[1]}.svg\");\n",
    "\n",
    "def pca_plot_per_class(df, comp: List[int]):\n",
    "    plt.figure(figsize=(15, 14));\n",
    "    fig, ax = plt.subplots();\n",
    "    leg_dict = {}\n",
    "    leg_list = [\"Enamine\", \"DrugBank\", \"ChEMBL NP\"]\n",
    "    plot_order = [\"DrugBank\", \"ChEMBL NP\", \"Enamine\"]\n",
    "    for ds in plot_order:\n",
    "        # tmp1 = df.query(f\"\"\"DataSet == '{ds}'\"\"\").sample(n=2500).copy().reset_index(drop=True)\n",
    "        tmp1 = df.query(f\"\"\"DataSet == '{ds}'\"\"\").copy().reset_index(drop=True)\n",
    "        x = tmp1[f\"Comp_{comp[0]}\"]\n",
    "        y = tmp1[f\"Comp_{comp[1]}\"]\n",
    "\n",
    "        quant_low = tmp1.quantile(0.05)\n",
    "        xmin = round(2 * quant_low[f\"Comp_{comp[0]}\"], 0) / 2 - 3.0\n",
    "        ymin = round(2 * quant_low[f\"Comp_{comp[1]}\"], 0) / 2 - 3.0\n",
    "        quant_high = tmp1.quantile(0.95)\n",
    "        xmax = round(2 * quant_high[f\"Comp_{comp[0]}\"], 0) / 2 + 3.0\n",
    "        ymax = round(2 * quant_high[f\"Comp_{comp[1]}\"], 0) / 2 + 3.0\n",
    "\n",
    "        # Peform the kernel density estimate\n",
    "        xx, yy = np.mgrid[xmin:xmax:200j, ymin:ymax:200j]\n",
    "        positions = np.vstack([xx.ravel(), yy.ravel()]).T\n",
    "        values = np.vstack([x, y]).T\n",
    "        kde = KernelDensity(\n",
    "            algorithm=\"kd_tree\",\n",
    "            kernel='gaussian', bandwidth=.4,\n",
    "        ).fit(values)\n",
    "        f = np.reshape(\n",
    "            np.exp(kde.score_samples(positions)), \n",
    "            xx.shape\n",
    "        )\n",
    "\n",
    "        # Contour plot\n",
    "        cntr = ax.contour(xx, yy, f, colors=cmap[ds], levels=10, label=ds, linestyles=\"-\", linewidths=2.0);\n",
    "        leg_elem,_ = cntr.legend_elements()\n",
    "        leg_dict[ds] = leg_elem[7]\n",
    "        # scatter = ax.plot(x, y, 'o', markersize=4, alpha=0.7, color=cmap[ds])\n",
    "\n",
    "    # Per-class plots for the internal DataSet\n",
    "    markers = [\"o\", \"^\", \"s\", \"p\", \"P\", \"*\", \"X\", \"<\", \">\", \"D\", \"v\"]\n",
    "    assert len(markers) == len(set(markers)), \"Markers are not unique.\"\n",
    "    tmp2 = df.query(f\"\"\"DataSet == '{config[\"name\"]}'\"\"\")\n",
    "    reverse_order = not config.get(\"per_class_order_asc\", True)\n",
    "    cpd_classes = list(sorted(tmp2[\"CpdClass\"].unique(), reverse=reverse_order))\n",
    "    assert len(cpd_classes) <= len(markers), \"Not enough markers for the number of classes.\"\n",
    "    class_marker_colors = config.get(\"per_class_colors\", None)\n",
    "    for idx, cc in enumerate(cpd_classes):\n",
    "        tmp_cc = tmp2.query(f\"\"\"CpdClass == '{cc}'\"\"\").copy().reset_index(drop=True)\n",
    "        x = tmp_cc[f\"Comp_{comp[0]}\"]\n",
    "        y = tmp_cc[f\"Comp_{comp[1]}\"]\n",
    "        if class_marker_colors is None:\n",
    "            scatter = ax.plot(x, y, markers[idx], markersize=10, color=cmap[config[\"name\"]])\n",
    "        else:\n",
    "            scatter = ax.plot(x, y, markers[idx], markersize=10, color=class_marker_colors[idx])\n",
    "        leg_list.append(cc)\n",
    "        leg_dict[cc] = scatter[0]\n",
    "\n",
    "    plt.xlim(pca_xlim);\n",
    "    plt.ylim(pca_ylim);\n",
    "    plt.xlabel(f\"PC{comp[0]}\");\n",
    "    plt.ylabel(f\"PC{comp[1]}\");\n",
    "    leg_elements = [leg_dict[x] for x in leg_list]\n",
    "    plt.legend(leg_elements, leg_list);\n",
    "    plt.title(f\"PCA Comp{comp[0]} and Comp{comp[1]} (per class)\");\n",
    "    plt.savefig(f\"{config['dataset']}/output/pca_per_class_{comp[0]}_{comp[1]}.png\");\n",
    "    plt.savefig(f\"{config['dataset']}/output/pca_per_class_{comp[0]}_{comp[1]}.svg\");\n",
    "\n",
    "def lip_classic():\n",
    "    df_int = u.read_tsv(f\"{config['dataset']}/output/descriptors.tsv\")\n",
    "    tmp = df_int.copy()\n",
    "    plt.figure(figsize=(15, 14));\n",
    "    fig, ax = plt.subplots();\n",
    "    leg_dict = {}\n",
    "    leg_list = []\n",
    "    markers = [\"o\", \"^\", \"s\", \"p\", \"P\", \"*\", \"X\", \"<\", \">\", \"D\", \"v\"]\n",
    "    assert len(markers) == len(set(markers)), \"Markers are not unique.\"\n",
    "    cpd_classes = list(sorted(tmp[\"CpdClass\"].unique()))\n",
    "    assert len(cpd_classes) <= len(markers), \"Not enough markers for the number of classes.\"\n",
    "    class_marker_colors = config.get(\"per_class_colors\", None)\n",
    "    plt.plot([0, 500, 500], [5, 5, 0], color=\"k\", linestyle=\"-\")\n",
    "    for idx, cc in enumerate(cpd_classes):\n",
    "        tmp_cc = tmp.query(f\"\"\"CpdClass == '{cc}'\"\"\")\n",
    "        x = tmp_cc[\"MW\"]\n",
    "        y = tmp_cc[\"LogP\"]\n",
    "        if class_marker_colors is None:\n",
    "            scatter = ax.plot(x, y, markers[idx], markersize=10, color=cmap[config[\"name\"]])\n",
    "        else:\n",
    "            scatter = ax.plot(x, y, markers[idx], markersize=10, color=class_marker_colors[idx])\n",
    "        leg_list.append(cc)\n",
    "        leg_dict[cc] = scatter[0]\n",
    "    plt.xlim((0, 800))\n",
    "    plt.ylim(0, 8)\n",
    "    plt.xlabel(\"MW\");\n",
    "    plt.ylabel(\"LogP\");\n",
    "    leg_elements = [leg_dict[x] for x in leg_list]\n",
    "    plt.legend(leg_elements, leg_list);\n",
    "    plt.title(\"LogP vs. MW\");\n",
    "    out_fn = f\"{config['dataset']}/output/lip_classic\"\n",
    "    plt.savefig(f\"{out_fn}.png\");\n",
    "    plt.savefig(f\"{out_fn}.svg\");"
   ]
  },
  {
   "cell_type": "markdown",
   "metadata": {},
   "source": [
    "## Configuration"
   ]
  },
  {
   "cell_type": "code",
   "execution_count": null,
   "metadata": {
    "tags": [
     "parameters"
    ]
   },
   "outputs": [],
   "source": [
    "config = {\n",
    "    \"dataset\": \"desc\",\n",
    "    \"name\": \"PNPs\",\n",
    "    \"id_col\": \"ENSO_Id\",  # this key is optional\n",
    "    \"extra_columns\": [],\n",
    "    \"has_cpd_ids\": False,\n",
    "    \"per_class_plots\": True,\n",
    "    \"per_class_order_asc\": True,\n",
    "}"
   ]
  },
  {
   "cell_type": "code",
   "execution_count": null,
   "metadata": {},
   "outputs": [],
   "source": [
    "\n",
    "DATA_EN = \"enamine_adv_full\"\n",
    "DATA_DB = \"drugbank_5.1.8_appr_inv_full\"\n",
    "DATA_NP = \"chembl_30_np_full_nocanon_deglyco\"\n",
    "\n",
    "descriptors = {\n",
    "    \"NP_Like\": lambda x: round(score_np(x), 2), \n",
    "    \"QED\": lambda x: round(QED.default(x), 3),\n",
    "    \"NumHA\": lambda x: x.GetNumAtoms(),\n",
    "    \"MW\": lambda x: round(Desc.ExactMolWt(x), 2),\n",
    "    \"NumRings\": rdMolDesc.CalcNumRings,\n",
    "    \"NumRingsArom\": rdMolDesc.CalcNumAromaticRings,\n",
    "    \"NumRingsAli\": rdMolDesc.CalcNumAliphaticRings,\n",
    "    \"NumHDon\": rdMolDesc.CalcNumLipinskiHBD,\n",
    "    \"NumHAcc\": rdMolDesc.CalcNumLipinskiHBA,\n",
    "    \"LogP\": lambda x: round(Desc.MolLogP(x), 2),\n",
    "    \"TPSA\": lambda x: round(rdMolDesc.CalcTPSA(x), 2),\n",
    "    \"NumRotBd\": rdMolDesc.CalcNumRotatableBonds,\n",
    "    \"NumAtOx\": lambda x: len(\n",
    "        [a for a in x.GetAtoms() if a.GetAtomicNum() == 8]\n",
    "    ),\n",
    "    \"NumAtN\": lambda x: len(\n",
    "        [a for a in x.GetAtoms() if a.GetAtomicNum() == 7]\n",
    "    ),\n",
    "    \"NumAtHal\": Fragments.fr_halogen,\n",
    "    \"NumAtBridgehead\": rdMolDesc.CalcNumBridgeheadAtoms,\n",
    "    \"FCsp3\": lambda x: round(rdMolDesc.CalcFractionCSP3(x), 3), \n",
    "}\n",
    "\n",
    "print(f\"Number of descriptors: {len(descriptors)}\")\n",
    "\n",
    "cmap = {\"Enamine\": \"#1f77b4\", \"DrugBank\": \"#ff7f0e\", \"ChEMBL NP\": \"#2ca02c\", config[\"name\"]: \"#d62728\"}\n",
    "contour_cmap = {\"Enamine\": \"#1f77b4\", \"DrugBank\": \"#ff7f0e\", \"ChEMBL NP\": \"#2ca02c\", config[\"name\"]: \"#d62728\"}\n",
    "selected_descriptors = [\"NP_Like\", \"QED\", \"FCsp3\"]\n",
    "xlims = {\"NP_Like\": (-5, 5), \"QED\": (0, 1), \"FCsp3\": (0, 1)}\n",
    "widths = {\"NP_Like\": 10, \"QED\": 10, \"FCsp3\": 10}\n",
    "\n",
    "fscore = npscorer.readNPModel()\n",
    "def score_np(mol):\n",
    "    return npscorer.scoreMol(mol, fscore)\n",
    "\n",
    "os.makedirs(f'{config[\"dataset\"]}/output', exist_ok=True)"
   ]
  },
  {
   "cell_type": "markdown",
   "metadata": {},
   "source": [
    "## Loading Data Sets"
   ]
  },
  {
   "cell_type": "code",
   "execution_count": null,
   "metadata": {},
   "outputs": [],
   "source": [
    "df_int = u.read_tsv(f'{config[\"dataset\"]}/input/smiles_all.tsv')\n",
    "\n",
    "if config[\"has_cpd_ids\"]:\n",
    "    # Merge structure Smiles by Compound_Id\n",
    "    config[\"id_col\"] = \"Compound_Id\"\n",
    "    df_comas = u.read_tsv(\"/home/pahl/comas/share/comas_smiles.tsv\")\n",
    "    num_cpds_1 = len(df_int)\n",
    "    df_int = pd.merge(df_int, df_comas, on=\"Compound_Id\", how=\"left\")\n",
    "    num_cpds_2 = len(df_int)\n",
    "    assert num_cpds_1 == num_cpds_2, f\"Only {num_cpds_2} out of {num_cpds_2} compounds were found in the COMAS database.\"\n",
    "if config.get(\"has_salts\", False):\n",
    "    print(\"Standardizing structures...\")\n",
    "    num_cpds_1 = len(df_int)\n",
    "    df_int = u.calc_from_smiles(df_int, \"Smiles_Stand\", u.standardize_mol)\n",
    "    df_int = u.remove_nans(df_int, \"Smiles_Stand\")\n",
    "    num_cpds_2 = len(df_int)\n",
    "    assert num_cpds_1 == num_cpds_2, f\"Only {num_cpds_2} out of {num_cpds_1} compounds could be standardized.\"\n",
    "    df_int = df_int.drop(\"Smiles\", axis=1)\n",
    "    df_int = df_int.rename(columns={'Smiles_Stand': 'Smiles'})\n",
    "if \"id_col\" not in config:\n",
    "    config[\"id_col\"] = \"Cpd_Id\"\n",
    "    df_int[\"Cpd_Id\"] = df_int.index + 1\n",
    "\n",
    "# The reference data sets already contain the Descriptor data\n",
    "# Generated by the separate notebook `01_desc_precalc_datasets`\n",
    "df_en = u.read_tsv(f\"input/{DATA_EN}_sample_50k_desc.tsv\")\n",
    "df_db = u.read_tsv(f\"input/{DATA_DB}_desc.tsv\")\n",
    "df_np = u.read_tsv(f\"input/{DATA_NP}_desc.tsv\")\n",
    "\n",
    "datasets = {\"Enamine\": df_en, \"DrugBank\": df_db, \"ChEMBL NP\": df_np}\n",
    "id_cols = {\"Enamine\": \"idnumber\", \"DrugBank\": \"DRUGBANK_ID\", \"ChEMBL NP\": \"chembl_id\", config[\"name\"]: config[\"id_col\"]}"
   ]
  },
  {
   "cell_type": "markdown",
   "metadata": {},
   "source": [
    "## Write Structure Overview File"
   ]
  },
  {
   "cell_type": "code",
   "execution_count": null,
   "metadata": {},
   "outputs": [],
   "source": [
    "mv.write_mol_grid(\n",
    "    df_int, title=config[\"name\"], id_col=\"Cpd_Id\", fn=f\"{config['dataset']}/output/mol_grid.html\",\n",
    "    truncate=20\n",
    ")"
   ]
  },
  {
   "cell_type": "markdown",
   "metadata": {},
   "source": [
    "## Adding Descriptors to Internal Data\n",
    "Make sure that the above list of descriptors is identical to that of `2203_02_calc_desc.ipynb`."
   ]
  },
  {
   "cell_type": "code",
   "execution_count": null,
   "metadata": {},
   "outputs": [],
   "source": [
    "for desc in descriptors:\n",
    "    print(f\"{desc:15}: \")\n",
    "    df_int = u.calc_from_smiles(df_int, desc, descriptors[desc])\n",
    "datasets[config[\"name\"]] = df_int\n",
    "u.write_tsv(df_int, f\"{config['dataset']}/output/descriptors.tsv\")"
   ]
  },
  {
   "cell_type": "markdown",
   "metadata": {},
   "source": [
    "## Generate One Data Set for Plotting"
   ]
  },
  {
   "cell_type": "code",
   "execution_count": null,
   "metadata": {},
   "outputs": [],
   "source": [
    "tmp_list = []\n",
    "for ds in datasets:\n",
    "    tmp = datasets[ds].copy()\n",
    "    tmp[\"DataSet\"] = ds\n",
    "    tmp = tmp.rename(columns={id_cols[ds]: \"Cpd_Id\"})\n",
    "    tmp_list.append(tmp)\n",
    "\n",
    "cols = [\"Cpd_Id\", \"DataSet\"]\n",
    "cols.extend(config[\"extra_columns\"])\n",
    "cols.extend(descriptors.keys())\n",
    "if config[\"per_class_plots\"]:\n",
    "    cols.append(\"CpdClass\")\n",
    "df_all = pd.concat(tmp_list)[cols]\n",
    "df_all = df_all.reset_index(drop=True)\n",
    "del tmp_list"
   ]
  },
  {
   "cell_type": "markdown",
   "metadata": {},
   "source": [
    "## Analysis\n",
    "### Overview Plots NP-Likeness, QED\n",
    "### ECDF"
   ]
  },
  {
   "cell_type": "code",
   "execution_count": null,
   "metadata": {},
   "outputs": [],
   "source": [
    "for desc in selected_descriptors:\n",
    "    plt.figure(figsize=(widths[desc], 7))\n",
    "    sns.ecdfplot(data=df_all, x=desc, stat=\"proportion\", hue=\"DataSet\", palette=cmap)\n",
    "    plt.xlim(xlims[desc]);\n",
    "    # plt.legend();\n",
    "    plt.title(f\"Distribution of {desc}\")\n",
    "    plt.savefig(f\"{config['dataset']}/output/ecdf_overview_{desc}.png\");\n",
    "    plt.savefig(f\"{config['dataset']}/output/ecdf_overview_{desc}.svg\");\n",
    "    plt.clf()\n",
    "    plt.close()\n",
    "    gc.collect()"
   ]
  },
  {
   "cell_type": "markdown",
   "metadata": {},
   "source": [
    "#### Density (Deprecate!)"
   ]
  },
  {
   "cell_type": "code",
   "execution_count": null,
   "metadata": {},
   "outputs": [],
   "source": [
    "for desc in selected_descriptors:\n",
    "    plt.figure(figsize=(widths[desc], 7))\n",
    "    df_en[desc].plot.density(color=\"#1f77b4\", label=\"Enamine\")\n",
    "    df_db[desc].plot.density(color=\"#ff7f0e\", label=\"Drugbank\")\n",
    "    df_np[desc].plot.density(color=\"#2ca02c\", label=\"ChEMBL NPs\")\n",
    "    df_int[desc].plot.density(color=\"#d62728\", label=config[\"name\"])\n",
    "    plt.xlim(xlims[desc]);\n",
    "    plt.legend();\n",
    "    plt.title(f\"Distribution of {desc}\")\n",
    "    plt.savefig(f\"{config['dataset']}/output/density_overview_{desc}.png\");\n",
    "    plt.clf()\n",
    "    plt.close()\n",
    "    gc.collect()"
   ]
  },
  {
   "cell_type": "markdown",
   "metadata": {},
   "source": [
    "### Per-Class Plots NP-Likeness, QED"
   ]
  },
  {
   "cell_type": "code",
   "execution_count": null,
   "metadata": {
    "collapsed": true,
    "jupyter": {
     "outputs_hidden": true
    }
   },
   "outputs": [],
   "source": [
    "if config[\"per_class_plots\"]:\n",
    "    class_marker_colors = config.get(\"per_class_colors\", None)\n",
    "    reverse_order = not config.get(\"per_class_order_asc\", True)\n",
    "    cpd_classes = list(sorted(df_int[\"CpdClass\"].unique(), reverse=reverse_order))\n",
    "    print(cpd_classes)\n",
    "\n",
    "    for desc in selected_descriptors:\n",
    "        plt.figure(figsize=(widths[desc], 7))\n",
    "        if class_marker_colors is None:\n",
    "            sns.ecdfplot(data=df_int, x=desc, stat=\"proportion\", hue=\"CpdClass\")\n",
    "        else:\n",
    "            class_palette = {cpd_classes[idx]: class_marker_colors[idx] for idx in range(len(cpd_classes))}\n",
    "            sns.ecdfplot(data=df_int, x=desc, stat=\"proportion\", hue=\"CpdClass\", palette=class_palette)\n",
    "        plt.xlim(xlims[desc]);\n",
    "        # plt.legend();\n",
    "        plt.title(f\"Distribution of {desc}\")\n",
    "        plt.savefig(f\"{config['dataset']}/output/ecdf_perclass_{desc}.png\");\n",
    "        plt.savefig(f\"{config['dataset']}/output/ecdf_perclass_{desc}.svg\");\n",
    "        plt.clf()\n",
    "        plt.close()\n",
    "        gc.collect()"
   ]
  },
  {
   "cell_type": "markdown",
   "metadata": {},
   "source": [
    "### Descriptor PCA"
   ]
  },
  {
   "cell_type": "code",
   "execution_count": null,
   "metadata": {},
   "outputs": [],
   "source": [
    "n_comp = 3\n",
    "desc_list = list(descriptors.keys())\n",
    "df_all = df_all.reset_index(drop=True)\n",
    "cols = [\"Cpd_Id\", \"DataSet\"]\n",
    "cols.extend(config[\"extra_columns\"])\n",
    "if config[\"per_class_plots\"]:\n",
    "    cols.append(\"CpdClass\")\n",
    "df_comp = df_all[cols].copy()\n",
    "df_data = df_all[desc_list].copy()\n",
    "# df_data = minmax_scale(df_data, feature_range=(0, 1), axis=1)\n",
    "df_data = StandardScaler().fit_transform(df_data)\n",
    "pca_model = PCA(n_components=n_comp)\n",
    "pca_result = pca_model.fit_transform(df_data)\n",
    "variance = pd.DataFrame(\n",
    "    [\n",
    "        (f\"PC{x+1}\", 100 * pca_model.explained_variance_ratio_[x])\n",
    "        for x in range(n_comp)\n",
    "    ],\n",
    "    columns=[\"Comp.\", \"Expl. Var. [%]\"],\n",
    ")\n",
    "variance = variance.round(1)\n",
    "\n",
    "df_comp[\"Comp_1\"] = pca_result[:, 0]\n",
    "df_comp[\"Comp_2\"] = pca_result[:, 1]\n",
    "df_comp[\"Comp_3\"] = pca_result[:, 2]\n",
    "u.write_tsv(df_comp.query(f\"\"\"DataSet == \"{config['name']}\" \"\"\"), f\"{config['dataset']}/output/pca_components.tsv\")\n",
    "u.write_tsv(variance, f\"{config['dataset']}/output/pca_explained_variance.tsv\")\n",
    "variance"
   ]
  },
  {
   "cell_type": "markdown",
   "metadata": {},
   "source": [
    "#### PCA Overview Plots Comp1 to Comp3"
   ]
  },
  {
   "cell_type": "code",
   "execution_count": null,
   "metadata": {},
   "outputs": [],
   "source": [
    "pca_plot_overview(df_comp, [1, 2])\n",
    "pca_plot_overview(df_comp, [1, 3])\n",
    "pca_plot_overview(df_comp, [2, 3])"
   ]
  },
  {
   "cell_type": "markdown",
   "metadata": {},
   "source": [
    "#### PCA Per Class Plots Comp1 to Comp3"
   ]
  },
  {
   "cell_type": "code",
   "execution_count": null,
   "metadata": {},
   "outputs": [],
   "source": [
    "if config[\"per_class_plots\"]:\n",
    "    pca_plot_per_class(df_comp, [1, 2])\n",
    "    pca_plot_per_class(df_comp, [1, 3])\n",
    "    pca_plot_per_class(df_comp, [2, 3])"
   ]
  },
  {
   "cell_type": "code",
   "execution_count": null,
   "metadata": {},
   "outputs": [],
   "source": [
    "df_pca_feature_contrib = pca.get_pca_feature_contrib(pca_model, desc_list)\n",
    "u.write_tsv(df_pca_feature_contrib, f\"{config['dataset']}/output/pca_feature_contrib.tsv\")\n",
    "df_pca_feature_contrib\n",
    "# u.open_in_localc(df_pca_feature_contrib)"
   ]
  },
  {
   "cell_type": "code",
   "execution_count": null,
   "metadata": {},
   "outputs": [],
   "source": [
    "fig = pca.plot_pca_cum_feature_contrib_3pc(df_pca_feature_contrib)\n",
    "fig.savefig(f\"{config['dataset']}/output/pca_cum_feature_contrib.png\", dpi=600)"
   ]
  },
  {
   "cell_type": "code",
   "execution_count": null,
   "metadata": {},
   "outputs": [],
   "source": [
    "fig = pca.plot_pca_loadings_3pc(pca_model, pca_result, desc_list)\n",
    "fig.savefig(f\"{config['dataset']}/output/pca_component_loading.png\", dpi=600)"
   ]
  },
  {
   "cell_type": "code",
   "execution_count": null,
   "metadata": {},
   "outputs": [],
   "source": [
    "lip_classic();"
   ]
  },
  {
   "cell_type": "code",
   "execution_count": null,
   "metadata": {},
   "outputs": [],
   "source": [
    "time_run = time.time() - time_start\n",
    "print('Runtime: {:.2f} minutes'.format(time_run/60))"
   ]
  },
  {
   "cell_type": "code",
   "execution_count": null,
   "metadata": {},
   "outputs": [],
   "source": []
  }
 ],
 "metadata": {
  "hide_input": false,
  "kernelspec": {
   "display_name": "bag",
   "language": "python",
   "name": "python3"
  },
  "language_info": {
   "codemirror_mode": {
    "name": "ipython",
    "version": 3
   },
   "file_extension": ".py",
   "mimetype": "text/x-python",
   "name": "python",
   "nbconvert_exporter": "python",
   "pygments_lexer": "ipython3",
   "version": "3.9.12"
  },
  "nav_menu": {},
  "toc": {
   "base_numbering": 1,
   "nav_menu": {},
   "number_sections": true,
   "sideBar": true,
   "skip_h1_title": true,
   "title_cell": "Table of Contents",
   "title_sidebar": "Contents",
   "toc_cell": false,
   "toc_position": {},
   "toc_section_display": "block",
   "toc_window_display": false
  },
  "vscode": {
   "interpreter": {
    "hash": "39b18661f0ab0911dfb8298bcee5220064328a49f2c82e71a54d89c8a20caef3"
   }
  }
 },
 "nbformat": 4,
 "nbformat_minor": 4
}
